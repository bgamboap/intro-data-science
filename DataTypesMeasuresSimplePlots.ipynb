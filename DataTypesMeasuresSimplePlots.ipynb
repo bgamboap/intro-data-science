{
  "nbformat": 4,
  "nbformat_minor": 0,
  "metadata": {
    "kernelspec": {
      "display_name": "Python 3",
      "language": "python",
      "name": "python3"
    },
    "language_info": {
      "codemirror_mode": {
        "name": "ipython",
        "version": 3
      },
      "file_extension": ".py",
      "mimetype": "text/x-python",
      "name": "python",
      "nbconvert_exporter": "python",
      "pygments_lexer": "ipython3",
      "version": "3.8.3"
    },
    "colab": {
      "name": "DataTypesMeasuresSimplePlots.ipynb",
      "provenance": [],
      "toc_visible": true,
      "include_colab_link": true
    }
  },
  "cells": [
    {
      "cell_type": "markdown",
      "metadata": {
        "id": "view-in-github",
        "colab_type": "text"
      },
      "source": [
        "<a href=\"https://colab.research.google.com/github/bgamboap/intro-data-science/blob/main/DataTypesMeasuresSimplePlots.ipynb\" target=\"_parent\"><img src=\"https://colab.research.google.com/assets/colab-badge.svg\" alt=\"Open In Colab\"/></a>"
      ]
    },
    {
      "cell_type": "markdown",
      "metadata": {
        "id": "jvU2pkFOU_4-"
      },
      "source": [
        "# **Introduction to Data Science 2020/2021**\n",
        "Department of Computer Science, Faculty of Sciences, University of Porto\n",
        "\n",
        "**Practical #2**\n",
        "\n",
        "# **Types of vars, measures and simple plots**\n",
        "\n",
        "Use a manually defined vector to try out some simple measures and play with data types.\n",
        "Let us first define a vector in pandas. Pandas includes the python object *array*. "
      ]
    },
    {
      "cell_type": "code",
      "metadata": {
        "id": "kYhpa302U_4_",
        "outputId": "0fb33e79-f650-439f-f7fc-bd4052a9f625",
        "colab": {
          "base_uri": "https://localhost:8080/",
          "height": 69
        }
      },
      "source": [
        "import pandas as pd\n",
        "x = pd.array([10,12,1,5,67])\n",
        "print(x)"
      ],
      "execution_count": 6,
      "outputs": [
        {
          "output_type": "stream",
          "text": [
            "<IntegerArray>\n",
            "[10, 12, 1, 5, 67]\n",
            "Length: 5, dtype: Int64\n"
          ],
          "name": "stdout"
        }
      ]
    },
    {
      "cell_type": "markdown",
      "metadata": {
        "id": "tuTc71kOU_5I"
      },
      "source": [
        "## Types\n",
        "As we can see, pandas created this as an array of **integers**. The `dtype` (short for data type) `Int64` means these are 64 bits integers. The type was defined automatically, but we can indicate (force) which type we want using the argument `dtype`. If we create another array with a different kind of content, the array method will infer the type. In this case we will use *strings*. These are sequences of characters, very useful to represent words and text, but not only."
      ]
    },
    {
      "cell_type": "code",
      "metadata": {
        "id": "-L-VpHWIU_5K",
        "outputId": "72426e64-69e2-4f42-c2c0-88d26e51f870",
        "colab": {
          "base_uri": "https://localhost:8080/",
          "height": 139
        }
      },
      "source": [
        "s = pd.array(['mon','tue','wed','thu','fri'])\n",
        "print(s)\n",
        "print(s[1])\n",
        "print(s[0:3])"
      ],
      "execution_count": 7,
      "outputs": [
        {
          "output_type": "stream",
          "text": [
            "<StringArray>\n",
            "['mon', 'tue', 'wed', 'thu', 'fri']\n",
            "Length: 5, dtype: string\n",
            "tue\n",
            "<StringArray>\n",
            "['mon', 'tue', 'wed']\n",
            "Length: 3, dtype: string\n"
          ],
          "name": "stdout"
        }
      ]
    },
    {
      "cell_type": "markdown",
      "metadata": {
        "id": "ZGsVKSCAU_5R"
      },
      "source": [
        "Let's try with non integer numericals and with booleans."
      ]
    },
    {
      "cell_type": "code",
      "metadata": {
        "id": "YVVBE80UU_5T",
        "outputId": "adc6adf6-4707-4c7f-b947-c2013e69336d",
        "colab": {
          "base_uri": "https://localhost:8080/",
          "height": 139
        }
      },
      "source": [
        "r = pd.array([12.3,14.5,22.95,30,16])\n",
        "print(r)\n",
        "b = pd.array([False,False,True,False,True])\n",
        "print(b)\n",
        "if(b[4]): \n",
        "    print(r[3]*2) \n",
        "else: \n",
        "    print(r[3])"
      ],
      "execution_count": 8,
      "outputs": [
        {
          "output_type": "stream",
          "text": [
            "<PandasArray>\n",
            "[12.3, 14.5, 22.95, 30.0, 16.0]\n",
            "Length: 5, dtype: float64\n",
            "<BooleanArray>\n",
            "[False, False, True, False, True]\n",
            "Length: 5, dtype: boolean\n",
            "60.0\n"
          ],
          "name": "stdout"
        }
      ]
    },
    {
      "cell_type": "markdown",
      "metadata": {
        "id": "JHfg0-cDU_5Z"
      },
      "source": [
        "Note that `False` and `True` were recognized as logical values. If we want the string `\"False\"` we have to add the quotes.\n",
        "\n",
        "- What is the `if..else` statement doing? Make changes and see the differences.\n",
        "\n",
        "There are many other types that you may want to explore. But these are the most important ones."
      ]
    },
    {
      "cell_type": "markdown",
      "metadata": {
        "id": "iQk54JUOU_5Z"
      },
      "source": [
        "## Exercises with types\n",
        "\n",
        "1. Try to force the type of the arrays to the non-default values (the floats as strings, the booleans as integers, etc.). Observe the result of these changes. How can they be useful? Think of examples.\n",
        "2. See the documentation of the pandas method `array`.\n",
        "3. There is an `array` method in the package `numpy`. This is normal. Different packages can have methods (the functions) with similar names. But be cautious, in general they have different behaviors. These two slightly different arrays are, however, mixable. Anyway, study the differences between the two methods, but use pandas' method in these exercises."
      ]
    },
    {
      "cell_type": "code",
      "metadata": {
        "id": "kuiny8PkU_5a",
        "outputId": "5ccb026c-e7b8-412d-c68a-dfcb7d5c8a37",
        "colab": {
          "base_uri": "https://localhost:8080/",
          "height": 139
        }
      },
      "source": [
        "import numpy as np\n",
        "r1 = pd.array([12.3,14.5,22.95,30,16])\n",
        "r2 = np.array([12.3,14.5,22.95,30,16])\n",
        "print(r1+r1)\n",
        "print(r2+r2)\n",
        "print(r1+r2)"
      ],
      "execution_count": 9,
      "outputs": [
        {
          "output_type": "stream",
          "text": [
            "<PandasArray>\n",
            "[24.6, 29.0, 45.9, 60.0, 32.0]\n",
            "Length: 5, dtype: float64\n",
            "[24.6 29.  45.9 60.  32. ]\n",
            "<PandasArray>\n",
            "[24.6, 29.0, 45.9, 60.0, 32.0]\n",
            "Length: 5, dtype: float64\n"
          ],
          "name": "stdout"
        }
      ]
    },
    {
      "cell_type": "markdown",
      "metadata": {
        "id": "-XZrgO7vU_5f"
      },
      "source": [
        "# Data frames\n",
        "\n",
        "Data frames are python objects that can store tables as a specific data structure. A *data frame* is a collection of columns. Each column is an array of a specific type. They are typically visualized as tables."
      ]
    },
    {
      "cell_type": "code",
      "metadata": {
        "id": "psrxQiJrU_5g",
        "outputId": "9cfdff5a-65aa-4c33-8a2a-d708a606f88f",
        "colab": {
          "base_uri": "https://localhost:8080/",
          "height": 121
        }
      },
      "source": [
        "df = pd.DataFrame(data={'weekday':s,'units-sold':x,'satisfaction':r})\n",
        "print(df)"
      ],
      "execution_count": 14,
      "outputs": [
        {
          "output_type": "stream",
          "text": [
            "  weekday  units-sold  satisfaction\n",
            "0     mon          10         12.30\n",
            "1     tue          12         14.50\n",
            "2     wed           1         22.95\n",
            "3     thu           5         30.00\n",
            "4     fri          67         16.00\n"
          ],
          "name": "stdout"
        }
      ]
    },
    {
      "cell_type": "markdown",
      "metadata": {
        "id": "XaMC-MCEU_5n"
      },
      "source": [
        "We can read a csv file with data into a data frame using the `read_csv` method."
      ]
    },
    {
      "cell_type": "markdown",
      "metadata": {
        "id": "do7wG8UjU_5n"
      },
      "source": [
        "## Exercises about summarizing data\n",
        "\n",
        "Download the \"adult.csv\" data set from kaggle (https://www.kaggle.com/uciml/adult-census-income) and read it as a data frame to your notebook (in fact you can use other datasets).\n",
        "1. Check the types of the variables loaded in the data frame.\n",
        "2. Analyse the variables and summarize them using central and dispersion statistical measures.\n",
        "2. Calculate the mean of a numerical variable without using a pre-defined function.\n",
        "3. Plot the proportion of values in categorical variables.\n",
        "3. If we want to see the frequency of the different values of a categorical variable, what is the most adequate plot? Show examples.\n",
        "3. How can we describe the distribution of a numerical variable using statistical measures?\n",
        "3. How can we describe the distribution of a numerical variable using simple plots?\n",
        "3. Find outliers in the numerical variables.\n",
        "3. Look for positive and negative correlations between the numerical variables.\n",
        "4. Plot two variables with high absolute correlation using a scatter plot."
      ]
    },
    {
      "cell_type": "code",
      "metadata": {
        "id": "lduCAJPIlYgv",
        "outputId": "a9c9c6e8-17f3-44a9-c078-b3e4ef31a89a",
        "colab": {
          "base_uri": "https://localhost:8080/",
          "height": 260
        }
      },
      "source": [
        "adult = pd.read_csv('/content/adult.csv')\n",
        "ad = pd.DataFrame(data=adult)\n",
        "print(ad)"
      ],
      "execution_count": 11,
      "outputs": [
        {
          "output_type": "stream",
          "text": [
            "       age workclass  fnlwgt  ... hours.per.week  native.country income\n",
            "0       90         ?   77053  ...             40   United-States  <=50K\n",
            "1       82   Private  132870  ...             18   United-States  <=50K\n",
            "2       66         ?  186061  ...             40   United-States  <=50K\n",
            "3       54   Private  140359  ...             40   United-States  <=50K\n",
            "4       41   Private  264663  ...             40   United-States  <=50K\n",
            "...    ...       ...     ...  ...            ...             ...    ...\n",
            "32556   22   Private  310152  ...             40   United-States  <=50K\n",
            "32557   27   Private  257302  ...             38   United-States  <=50K\n",
            "32558   40   Private  154374  ...             40   United-States   >50K\n",
            "32559   58   Private  151910  ...             40   United-States  <=50K\n",
            "32560   22   Private  201490  ...             20   United-States  <=50K\n",
            "\n",
            "[32561 rows x 15 columns]\n"
          ],
          "name": "stdout"
        }
      ]
    },
    {
      "cell_type": "markdown",
      "metadata": {
        "id": "dKe1NZZWm4c7"
      },
      "source": [
        "### 1) Check the types of the variables loaded in the data frame."
      ]
    },
    {
      "cell_type": "code",
      "metadata": {
        "id": "0L1szdtJmoA-",
        "outputId": "8fcfa3ae-c805-4402-c32b-7878f785994a",
        "colab": {
          "base_uri": "https://localhost:8080/",
          "height": 295
        }
      },
      "source": [
        "ad.dtypes"
      ],
      "execution_count": 15,
      "outputs": [
        {
          "output_type": "execute_result",
          "data": {
            "text/plain": [
              "age                int64\n",
              "workclass         object\n",
              "fnlwgt             int64\n",
              "education         object\n",
              "education.num      int64\n",
              "marital.status    object\n",
              "occupation        object\n",
              "relationship      object\n",
              "race              object\n",
              "sex               object\n",
              "capital.gain       int64\n",
              "capital.loss       int64\n",
              "hours.per.week     int64\n",
              "native.country    object\n",
              "income            object\n",
              "dtype: object"
            ]
          },
          "metadata": {
            "tags": []
          },
          "execution_count": 15
        }
      ]
    },
    {
      "cell_type": "markdown",
      "metadata": {
        "id": "V8_foI5cnBjQ"
      },
      "source": [
        "### 2) Analyse the variables and summarize them using central and dispersion statistical measures."
      ]
    },
    {
      "cell_type": "code",
      "metadata": {
        "id": "ArqwUL7qm2GB"
      },
      "source": [
        ""
      ],
      "execution_count": null,
      "outputs": []
    }
  ]
}