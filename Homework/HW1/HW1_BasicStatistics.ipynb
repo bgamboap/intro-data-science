{
 "cells": [
  {
   "cell_type": "markdown",
   "metadata": {},
   "source": [
    "# Homework Assignement 1 - Basic Statistics - revision notebook"
   ]
  },
  {
   "cell_type": "markdown",
   "metadata": {},
   "source": [
    "Beatriz Gamboa Pereira - 201705220"
   ]
  },
  {
   "cell_type": "code",
   "execution_count": 41,
   "metadata": {},
   "outputs": [],
   "source": [
    "import pandas as pd\n",
    "import matplotlib.pyplot as plt\n",
    "import numpy as np\n",
    "import statsmodels.api as sm"
   ]
  },
  {
   "cell_type": "markdown",
   "metadata": {},
   "source": [
    "In this work, I will be exploring the dataset used in the first practical lesson, namely SAheart, from kaggle."
   ]
  },
  {
   "cell_type": "code",
   "execution_count": 2,
   "metadata": {},
   "outputs": [
    {
     "data": {
      "text/html": [
       "<div>\n",
       "<style scoped>\n",
       "    .dataframe tbody tr th:only-of-type {\n",
       "        vertical-align: middle;\n",
       "    }\n",
       "\n",
       "    .dataframe tbody tr th {\n",
       "        vertical-align: top;\n",
       "    }\n",
       "\n",
       "    .dataframe thead th {\n",
       "        text-align: right;\n",
       "    }\n",
       "</style>\n",
       "<table border=\"1\" class=\"dataframe\">\n",
       "  <thead>\n",
       "    <tr style=\"text-align: right;\">\n",
       "      <th></th>\n",
       "      <th>sbp</th>\n",
       "      <th>tobacco</th>\n",
       "      <th>ldl</th>\n",
       "      <th>adiposity</th>\n",
       "      <th>famhist</th>\n",
       "      <th>typea</th>\n",
       "      <th>obesity</th>\n",
       "      <th>alcohol</th>\n",
       "      <th>age</th>\n",
       "      <th>chd</th>\n",
       "    </tr>\n",
       "  </thead>\n",
       "  <tbody>\n",
       "    <tr>\n",
       "      <th>0</th>\n",
       "      <td>160</td>\n",
       "      <td>12.00</td>\n",
       "      <td>5.73</td>\n",
       "      <td>23.11</td>\n",
       "      <td>Present</td>\n",
       "      <td>49</td>\n",
       "      <td>25.30</td>\n",
       "      <td>97.20</td>\n",
       "      <td>52</td>\n",
       "      <td>Si</td>\n",
       "    </tr>\n",
       "    <tr>\n",
       "      <th>1</th>\n",
       "      <td>144</td>\n",
       "      <td>0.01</td>\n",
       "      <td>4.41</td>\n",
       "      <td>28.61</td>\n",
       "      <td>Absent</td>\n",
       "      <td>55</td>\n",
       "      <td>28.87</td>\n",
       "      <td>2.06</td>\n",
       "      <td>63</td>\n",
       "      <td>Si</td>\n",
       "    </tr>\n",
       "    <tr>\n",
       "      <th>2</th>\n",
       "      <td>118</td>\n",
       "      <td>0.08</td>\n",
       "      <td>3.48</td>\n",
       "      <td>32.28</td>\n",
       "      <td>Present</td>\n",
       "      <td>52</td>\n",
       "      <td>29.14</td>\n",
       "      <td>3.81</td>\n",
       "      <td>46</td>\n",
       "      <td>No</td>\n",
       "    </tr>\n",
       "    <tr>\n",
       "      <th>3</th>\n",
       "      <td>170</td>\n",
       "      <td>7.50</td>\n",
       "      <td>6.41</td>\n",
       "      <td>38.03</td>\n",
       "      <td>Present</td>\n",
       "      <td>51</td>\n",
       "      <td>31.99</td>\n",
       "      <td>24.26</td>\n",
       "      <td>58</td>\n",
       "      <td>Si</td>\n",
       "    </tr>\n",
       "    <tr>\n",
       "      <th>4</th>\n",
       "      <td>134</td>\n",
       "      <td>13.60</td>\n",
       "      <td>3.50</td>\n",
       "      <td>27.78</td>\n",
       "      <td>Present</td>\n",
       "      <td>60</td>\n",
       "      <td>25.99</td>\n",
       "      <td>57.34</td>\n",
       "      <td>49</td>\n",
       "      <td>Si</td>\n",
       "    </tr>\n",
       "    <tr>\n",
       "      <th>...</th>\n",
       "      <td>...</td>\n",
       "      <td>...</td>\n",
       "      <td>...</td>\n",
       "      <td>...</td>\n",
       "      <td>...</td>\n",
       "      <td>...</td>\n",
       "      <td>...</td>\n",
       "      <td>...</td>\n",
       "      <td>...</td>\n",
       "      <td>...</td>\n",
       "    </tr>\n",
       "    <tr>\n",
       "      <th>457</th>\n",
       "      <td>214</td>\n",
       "      <td>0.40</td>\n",
       "      <td>5.98</td>\n",
       "      <td>31.72</td>\n",
       "      <td>Absent</td>\n",
       "      <td>64</td>\n",
       "      <td>28.45</td>\n",
       "      <td>0.00</td>\n",
       "      <td>58</td>\n",
       "      <td>No</td>\n",
       "    </tr>\n",
       "    <tr>\n",
       "      <th>458</th>\n",
       "      <td>182</td>\n",
       "      <td>4.20</td>\n",
       "      <td>4.41</td>\n",
       "      <td>32.10</td>\n",
       "      <td>Absent</td>\n",
       "      <td>52</td>\n",
       "      <td>28.61</td>\n",
       "      <td>18.72</td>\n",
       "      <td>52</td>\n",
       "      <td>Si</td>\n",
       "    </tr>\n",
       "    <tr>\n",
       "      <th>459</th>\n",
       "      <td>108</td>\n",
       "      <td>3.00</td>\n",
       "      <td>1.59</td>\n",
       "      <td>15.23</td>\n",
       "      <td>Absent</td>\n",
       "      <td>40</td>\n",
       "      <td>20.09</td>\n",
       "      <td>26.64</td>\n",
       "      <td>55</td>\n",
       "      <td>No</td>\n",
       "    </tr>\n",
       "    <tr>\n",
       "      <th>460</th>\n",
       "      <td>118</td>\n",
       "      <td>5.40</td>\n",
       "      <td>11.61</td>\n",
       "      <td>30.79</td>\n",
       "      <td>Absent</td>\n",
       "      <td>64</td>\n",
       "      <td>27.35</td>\n",
       "      <td>23.97</td>\n",
       "      <td>40</td>\n",
       "      <td>No</td>\n",
       "    </tr>\n",
       "    <tr>\n",
       "      <th>461</th>\n",
       "      <td>132</td>\n",
       "      <td>0.00</td>\n",
       "      <td>4.82</td>\n",
       "      <td>33.41</td>\n",
       "      <td>Present</td>\n",
       "      <td>62</td>\n",
       "      <td>14.70</td>\n",
       "      <td>0.00</td>\n",
       "      <td>46</td>\n",
       "      <td>Si</td>\n",
       "    </tr>\n",
       "  </tbody>\n",
       "</table>\n",
       "<p>462 rows × 10 columns</p>\n",
       "</div>"
      ],
      "text/plain": [
       "     sbp  tobacco    ldl  adiposity  famhist  typea  obesity  alcohol  age chd\n",
       "0    160    12.00   5.73      23.11  Present     49    25.30    97.20   52  Si\n",
       "1    144     0.01   4.41      28.61   Absent     55    28.87     2.06   63  Si\n",
       "2    118     0.08   3.48      32.28  Present     52    29.14     3.81   46  No\n",
       "3    170     7.50   6.41      38.03  Present     51    31.99    24.26   58  Si\n",
       "4    134    13.60   3.50      27.78  Present     60    25.99    57.34   49  Si\n",
       "..   ...      ...    ...        ...      ...    ...      ...      ...  ...  ..\n",
       "457  214     0.40   5.98      31.72   Absent     64    28.45     0.00   58  No\n",
       "458  182     4.20   4.41      32.10   Absent     52    28.61    18.72   52  Si\n",
       "459  108     3.00   1.59      15.23   Absent     40    20.09    26.64   55  No\n",
       "460  118     5.40  11.61      30.79   Absent     64    27.35    23.97   40  No\n",
       "461  132     0.00   4.82      33.41  Present     62    14.70     0.00   46  Si\n",
       "\n",
       "[462 rows x 10 columns]"
      ]
     },
     "execution_count": 2,
     "metadata": {},
     "output_type": "execute_result"
    }
   ],
   "source": [
    "mydata = pd.read_csv('SAheart.csv')\n",
    "mydata"
   ]
  },
  {
   "cell_type": "markdown",
   "metadata": {},
   "source": [
    "In this sample, we can see that we have 462 **data objects** (patients) each with 10 **attributes**. Of those 10 attributes, 8 constitute numeric variables, either integers or floats; 1 is nominal, namely 'famhist'; and then we have 'chd', which is the class indicator of whether the patient has Coronary Heart Disease or not. This last one is the variable we want to predict as we analyse our data. We can test this by checking the data types of our dataset."
   ]
  },
  {
   "cell_type": "code",
   "execution_count": 3,
   "metadata": {},
   "outputs": [
    {
     "data": {
      "text/plain": [
       "(462, 10)"
      ]
     },
     "execution_count": 3,
     "metadata": {},
     "output_type": "execute_result"
    }
   ],
   "source": [
    "#checking the number of data objects and attributes\n",
    "mydata.shape"
   ]
  },
  {
   "cell_type": "code",
   "execution_count": 4,
   "metadata": {},
   "outputs": [
    {
     "data": {
      "text/plain": [
       "sbp            int64\n",
       "tobacco      float64\n",
       "ldl          float64\n",
       "adiposity    float64\n",
       "famhist       object\n",
       "typea          int64\n",
       "obesity      float64\n",
       "alcohol      float64\n",
       "age            int64\n",
       "chd           object\n",
       "dtype: object"
      ]
     },
     "execution_count": 4,
     "metadata": {},
     "output_type": "execute_result"
    }
   ],
   "source": [
    "#checking the types of the attributes\n",
    "mydata.dtypes"
   ]
  },
  {
   "cell_type": "markdown",
   "metadata": {},
   "source": [
    "## Central tendency measures"
   ]
  },
  {
   "cell_type": "markdown",
   "metadata": {},
   "source": [
    "Central tendency measures tell us where the sample is located, and how skewed it is realtive to a normal distribution. <br>\n",
    "The most common measures of central tendency are the mean, the median and the mode. <br>\n",
    "The **mean** is the sum of all measurements divided by the number of measurements.  $$\\bar{x}=\\frac{1}{N}\\sum^{N}_{i=1}{x_{i}}$$ where $N$ is the number of observations in the sample and $\\left\\{x_{1}, x_{2}, \\ldots, x_{N}\\right\\}$ are the observed values of the sample items. We can also have a __weighted mean__ where data points have different contributions to the final value of the mean. When all data point have the same contribution, we get the mean as described before. $$\\bar{x}=\\frac{\\sum_{i=1}^{n} w_{i} x_{i}}{\\sum_{i=1}^{n} w_{i}}$$ where $\\left\\{w_{1}, w_{2}, \\ldots, w_{n}\\right\\}$ are the weights. <br>\n",
    "The **median** is the middle value of your sample, which splits it into halves with equal amounts of datapoints.<br>\n",
    "The **mode** is simply the most frequent value in the dataset. Therefore, we can have a mode for nominal variables, as well as numerical ones."
   ]
  },
  {
   "cell_type": "markdown",
   "metadata": {},
   "source": [
    "### Mean"
   ]
  },
  {
   "cell_type": "code",
   "execution_count": 5,
   "metadata": {},
   "outputs": [
    {
     "name": "stdout",
     "output_type": "stream",
     "text": [
      "sbp          138.326840\n",
      "tobacco        3.635649\n",
      "ldl            4.740325\n",
      "adiposity     25.406732\n",
      "typea         53.103896\n",
      "obesity       26.044113\n",
      "alcohol       17.044394\n",
      "age           42.816017\n",
      "dtype: float64 \n",
      "\n",
      "\n",
      "sbp        138.32684\n",
      "tobacco    3.635649\n",
      "ldl        4.740325\n",
      "adiposity  25.406732\n",
      "typea      53.103896\n",
      "obesity    26.044113\n",
      "alcohol    17.044394\n",
      "age        42.816017\n"
     ]
    }
   ],
   "source": [
    "print(mydata.mean(),'\\n\\n')\n",
    "\n",
    "#we can check the mean is the sum of all measurements divided by the number of measurements\n",
    "numeric_columns = mydata.select_dtypes([np.number]).columns\n",
    "for col in numeric_columns:\n",
    "    sum = 0\n",
    "    for i in mydata[col]:\n",
    "        sum += i\n",
    "    mean = sum / 462\n",
    "    print(col.ljust(10),round(mean,6))\n",
    "    \n",
    "#as we can see, the results are the same"
   ]
  },
  {
   "cell_type": "markdown",
   "metadata": {},
   "source": [
    "### Median"
   ]
  },
  {
   "cell_type": "code",
   "execution_count": 6,
   "metadata": {},
   "outputs": [
    {
     "name": "stdout",
     "output_type": "stream",
     "text": [
      "sbp          134.000\n",
      "tobacco        2.000\n",
      "ldl            4.340\n",
      "adiposity     26.115\n",
      "typea         53.000\n",
      "obesity       25.805\n",
      "alcohol        7.510\n",
      "age           45.000\n",
      "dtype: float64 \n",
      "\n",
      "\n",
      "sbp        134.0\n",
      "tobacco    2.0\n",
      "ldl        4.34\n",
      "adiposity  26.115\n",
      "typea      53.0\n",
      "obesity    25.805\n",
      "alcohol    7.51\n",
      "age        45.0\n"
     ]
    }
   ],
   "source": [
    "print(mydata.median(),'\\n\\n')\n",
    "\n",
    "#we can check it's the middle value of each column\n",
    "#since we have 462 datapoints, the median will be the average of the two middle values, 230 and 231\n",
    "for col in numeric_columns:\n",
    "    sorteda = np.sort(np.array(mydata[col]))\n",
    "    median = (sorteda[230] + sorteda[231]) / 2\n",
    "    print(col.ljust(10),round(median,3))\n",
    "    \n",
    "#as we can see, the results are the same"
   ]
  },
  {
   "cell_type": "markdown",
   "metadata": {},
   "source": [
    "### Mode"
   ]
  },
  {
   "cell_type": "code",
   "execution_count": 7,
   "metadata": {},
   "outputs": [
    {
     "data": {
      "text/html": [
       "<div>\n",
       "<style scoped>\n",
       "    .dataframe tbody tr th:only-of-type {\n",
       "        vertical-align: middle;\n",
       "    }\n",
       "\n",
       "    .dataframe tbody tr th {\n",
       "        vertical-align: top;\n",
       "    }\n",
       "\n",
       "    .dataframe thead th {\n",
       "        text-align: right;\n",
       "    }\n",
       "</style>\n",
       "<table border=\"1\" class=\"dataframe\">\n",
       "  <thead>\n",
       "    <tr style=\"text-align: right;\">\n",
       "      <th></th>\n",
       "      <th>sbp</th>\n",
       "      <th>tobacco</th>\n",
       "      <th>ldl</th>\n",
       "      <th>adiposity</th>\n",
       "      <th>famhist</th>\n",
       "      <th>typea</th>\n",
       "      <th>obesity</th>\n",
       "      <th>alcohol</th>\n",
       "      <th>age</th>\n",
       "      <th>chd</th>\n",
       "    </tr>\n",
       "  </thead>\n",
       "  <tbody>\n",
       "    <tr>\n",
       "      <th>0</th>\n",
       "      <td>134.0</td>\n",
       "      <td>0.0</td>\n",
       "      <td>3.57</td>\n",
       "      <td>21.10</td>\n",
       "      <td>Absent</td>\n",
       "      <td>52.0</td>\n",
       "      <td>24.86</td>\n",
       "      <td>0.0</td>\n",
       "      <td>16.0</td>\n",
       "      <td>No</td>\n",
       "    </tr>\n",
       "    <tr>\n",
       "      <th>1</th>\n",
       "      <td>136.0</td>\n",
       "      <td>NaN</td>\n",
       "      <td>3.95</td>\n",
       "      <td>27.55</td>\n",
       "      <td>NaN</td>\n",
       "      <td>NaN</td>\n",
       "      <td>26.09</td>\n",
       "      <td>NaN</td>\n",
       "      <td>NaN</td>\n",
       "      <td>NaN</td>\n",
       "    </tr>\n",
       "    <tr>\n",
       "      <th>2</th>\n",
       "      <td>NaN</td>\n",
       "      <td>NaN</td>\n",
       "      <td>4.37</td>\n",
       "      <td>29.30</td>\n",
       "      <td>NaN</td>\n",
       "      <td>NaN</td>\n",
       "      <td>NaN</td>\n",
       "      <td>NaN</td>\n",
       "      <td>NaN</td>\n",
       "      <td>NaN</td>\n",
       "    </tr>\n",
       "    <tr>\n",
       "      <th>3</th>\n",
       "      <td>NaN</td>\n",
       "      <td>NaN</td>\n",
       "      <td>NaN</td>\n",
       "      <td>30.79</td>\n",
       "      <td>NaN</td>\n",
       "      <td>NaN</td>\n",
       "      <td>NaN</td>\n",
       "      <td>NaN</td>\n",
       "      <td>NaN</td>\n",
       "      <td>NaN</td>\n",
       "    </tr>\n",
       "  </tbody>\n",
       "</table>\n",
       "</div>"
      ],
      "text/plain": [
       "     sbp  tobacco   ldl  adiposity famhist  typea  obesity  alcohol   age  chd\n",
       "0  134.0      0.0  3.57      21.10  Absent   52.0    24.86      0.0  16.0   No\n",
       "1  136.0      NaN  3.95      27.55     NaN    NaN    26.09      NaN   NaN  NaN\n",
       "2    NaN      NaN  4.37      29.30     NaN    NaN      NaN      NaN   NaN  NaN\n",
       "3    NaN      NaN   NaN      30.79     NaN    NaN      NaN      NaN   NaN  NaN"
      ]
     },
     "execution_count": 7,
     "metadata": {},
     "output_type": "execute_result"
    }
   ],
   "source": [
    "mydata.mode()\n",
    "#where we have more than one value with se same frequency, we have more than one mode, hence the 4 rows"
   ]
  },
  {
   "cell_type": "markdown",
   "metadata": {},
   "source": [
    "## Dispersion measures"
   ]
  },
  {
   "cell_type": "markdown",
   "metadata": {},
   "source": [
    "Dispersion measures tell us how far apart the measures are, indicating if the distribution is more squeezed or stretched. <br>\n",
    "We have the **range** of our measurements, which is the difference between the minimum and maximum values we have $\\text{range}=Max-Min$; the **quartiles**, which divide the data into four equal sized sets - the __median__ which divides the data into two equal sized sets is the second quartile, so we have $Q_{1},Q_{2} \\text{ or median} and Q_{3}$; and the **IQR** - interquartile range $IQR=Q_3-Q_1$. We can have a **five number summary** in which we get the $min, Q_{1},\\text{median},Q_{3},max$. <br>\n",
    "Other measures of statistical dispersion include the **variance**, $\\sigma^{2}$, and the **standard deviation**, $\\sigma$. The variance is te mean of the squared differences of the observations to their mean $$\\sigma^2 = \\frac{1}{N-1} \\sum_{i=1}^{N}\\left(x_{i}-\\bar{x}\\right)^{2}$$ where $N$ is the number of observations in the sample, $\\bar{x}$ is the mean value of the observations and $\\left\\{x_{1}, x_{2}, \\ldots, x_{N}\\right\\}$ are the observed values of the sample items. And the standard deviation is the squared root of the variance $$\\sigma = \\sqrt{\\sigma^2}$$"
   ]
  },
  {
   "cell_type": "code",
   "execution_count": 8,
   "metadata": {},
   "outputs": [
    {
     "data": {
      "text/html": [
       "<div>\n",
       "<style scoped>\n",
       "    .dataframe tbody tr th:only-of-type {\n",
       "        vertical-align: middle;\n",
       "    }\n",
       "\n",
       "    .dataframe tbody tr th {\n",
       "        vertical-align: top;\n",
       "    }\n",
       "\n",
       "    .dataframe thead th {\n",
       "        text-align: right;\n",
       "    }\n",
       "</style>\n",
       "<table border=\"1\" class=\"dataframe\">\n",
       "  <thead>\n",
       "    <tr style=\"text-align: right;\">\n",
       "      <th></th>\n",
       "      <th>sbp</th>\n",
       "      <th>tobacco</th>\n",
       "      <th>ldl</th>\n",
       "      <th>adiposity</th>\n",
       "      <th>famhist</th>\n",
       "      <th>typea</th>\n",
       "      <th>obesity</th>\n",
       "      <th>alcohol</th>\n",
       "      <th>age</th>\n",
       "      <th>chd</th>\n",
       "    </tr>\n",
       "  </thead>\n",
       "  <tbody>\n",
       "    <tr>\n",
       "      <th>count</th>\n",
       "      <td>462.000000</td>\n",
       "      <td>462.000000</td>\n",
       "      <td>462.000000</td>\n",
       "      <td>462.000000</td>\n",
       "      <td>462</td>\n",
       "      <td>462.000000</td>\n",
       "      <td>462.000000</td>\n",
       "      <td>462.000000</td>\n",
       "      <td>462.000000</td>\n",
       "      <td>462</td>\n",
       "    </tr>\n",
       "    <tr>\n",
       "      <th>unique</th>\n",
       "      <td>NaN</td>\n",
       "      <td>NaN</td>\n",
       "      <td>NaN</td>\n",
       "      <td>NaN</td>\n",
       "      <td>2</td>\n",
       "      <td>NaN</td>\n",
       "      <td>NaN</td>\n",
       "      <td>NaN</td>\n",
       "      <td>NaN</td>\n",
       "      <td>2</td>\n",
       "    </tr>\n",
       "    <tr>\n",
       "      <th>top</th>\n",
       "      <td>NaN</td>\n",
       "      <td>NaN</td>\n",
       "      <td>NaN</td>\n",
       "      <td>NaN</td>\n",
       "      <td>Absent</td>\n",
       "      <td>NaN</td>\n",
       "      <td>NaN</td>\n",
       "      <td>NaN</td>\n",
       "      <td>NaN</td>\n",
       "      <td>No</td>\n",
       "    </tr>\n",
       "    <tr>\n",
       "      <th>freq</th>\n",
       "      <td>NaN</td>\n",
       "      <td>NaN</td>\n",
       "      <td>NaN</td>\n",
       "      <td>NaN</td>\n",
       "      <td>270</td>\n",
       "      <td>NaN</td>\n",
       "      <td>NaN</td>\n",
       "      <td>NaN</td>\n",
       "      <td>NaN</td>\n",
       "      <td>302</td>\n",
       "    </tr>\n",
       "    <tr>\n",
       "      <th>mean</th>\n",
       "      <td>138.326840</td>\n",
       "      <td>3.635649</td>\n",
       "      <td>4.740325</td>\n",
       "      <td>25.406732</td>\n",
       "      <td>NaN</td>\n",
       "      <td>53.103896</td>\n",
       "      <td>26.044113</td>\n",
       "      <td>17.044394</td>\n",
       "      <td>42.816017</td>\n",
       "      <td>NaN</td>\n",
       "    </tr>\n",
       "    <tr>\n",
       "      <th>std</th>\n",
       "      <td>20.496317</td>\n",
       "      <td>4.593024</td>\n",
       "      <td>2.070909</td>\n",
       "      <td>7.780699</td>\n",
       "      <td>NaN</td>\n",
       "      <td>9.817534</td>\n",
       "      <td>4.213680</td>\n",
       "      <td>24.481059</td>\n",
       "      <td>14.608956</td>\n",
       "      <td>NaN</td>\n",
       "    </tr>\n",
       "    <tr>\n",
       "      <th>min</th>\n",
       "      <td>101.000000</td>\n",
       "      <td>0.000000</td>\n",
       "      <td>0.980000</td>\n",
       "      <td>6.740000</td>\n",
       "      <td>NaN</td>\n",
       "      <td>13.000000</td>\n",
       "      <td>14.700000</td>\n",
       "      <td>0.000000</td>\n",
       "      <td>15.000000</td>\n",
       "      <td>NaN</td>\n",
       "    </tr>\n",
       "    <tr>\n",
       "      <th>25%</th>\n",
       "      <td>124.000000</td>\n",
       "      <td>0.052500</td>\n",
       "      <td>3.282500</td>\n",
       "      <td>19.775000</td>\n",
       "      <td>NaN</td>\n",
       "      <td>47.000000</td>\n",
       "      <td>22.985000</td>\n",
       "      <td>0.510000</td>\n",
       "      <td>31.000000</td>\n",
       "      <td>NaN</td>\n",
       "    </tr>\n",
       "    <tr>\n",
       "      <th>50%</th>\n",
       "      <td>134.000000</td>\n",
       "      <td>2.000000</td>\n",
       "      <td>4.340000</td>\n",
       "      <td>26.115000</td>\n",
       "      <td>NaN</td>\n",
       "      <td>53.000000</td>\n",
       "      <td>25.805000</td>\n",
       "      <td>7.510000</td>\n",
       "      <td>45.000000</td>\n",
       "      <td>NaN</td>\n",
       "    </tr>\n",
       "    <tr>\n",
       "      <th>75%</th>\n",
       "      <td>148.000000</td>\n",
       "      <td>5.500000</td>\n",
       "      <td>5.790000</td>\n",
       "      <td>31.227500</td>\n",
       "      <td>NaN</td>\n",
       "      <td>60.000000</td>\n",
       "      <td>28.497500</td>\n",
       "      <td>23.892500</td>\n",
       "      <td>55.000000</td>\n",
       "      <td>NaN</td>\n",
       "    </tr>\n",
       "    <tr>\n",
       "      <th>max</th>\n",
       "      <td>218.000000</td>\n",
       "      <td>31.200000</td>\n",
       "      <td>15.330000</td>\n",
       "      <td>42.490000</td>\n",
       "      <td>NaN</td>\n",
       "      <td>78.000000</td>\n",
       "      <td>46.580000</td>\n",
       "      <td>147.190000</td>\n",
       "      <td>64.000000</td>\n",
       "      <td>NaN</td>\n",
       "    </tr>\n",
       "  </tbody>\n",
       "</table>\n",
       "</div>"
      ],
      "text/plain": [
       "               sbp     tobacco         ldl   adiposity famhist       typea  \\\n",
       "count   462.000000  462.000000  462.000000  462.000000     462  462.000000   \n",
       "unique         NaN         NaN         NaN         NaN       2         NaN   \n",
       "top            NaN         NaN         NaN         NaN  Absent         NaN   \n",
       "freq           NaN         NaN         NaN         NaN     270         NaN   \n",
       "mean    138.326840    3.635649    4.740325   25.406732     NaN   53.103896   \n",
       "std      20.496317    4.593024    2.070909    7.780699     NaN    9.817534   \n",
       "min     101.000000    0.000000    0.980000    6.740000     NaN   13.000000   \n",
       "25%     124.000000    0.052500    3.282500   19.775000     NaN   47.000000   \n",
       "50%     134.000000    2.000000    4.340000   26.115000     NaN   53.000000   \n",
       "75%     148.000000    5.500000    5.790000   31.227500     NaN   60.000000   \n",
       "max     218.000000   31.200000   15.330000   42.490000     NaN   78.000000   \n",
       "\n",
       "           obesity     alcohol         age  chd  \n",
       "count   462.000000  462.000000  462.000000  462  \n",
       "unique         NaN         NaN         NaN    2  \n",
       "top            NaN         NaN         NaN   No  \n",
       "freq           NaN         NaN         NaN  302  \n",
       "mean     26.044113   17.044394   42.816017  NaN  \n",
       "std       4.213680   24.481059   14.608956  NaN  \n",
       "min      14.700000    0.000000   15.000000  NaN  \n",
       "25%      22.985000    0.510000   31.000000  NaN  \n",
       "50%      25.805000    7.510000   45.000000  NaN  \n",
       "75%      28.497500   23.892500   55.000000  NaN  \n",
       "max      46.580000  147.190000   64.000000  NaN  "
      ]
     },
     "execution_count": 8,
     "metadata": {},
     "output_type": "execute_result"
    }
   ],
   "source": [
    "mydata.describe(include='all')"
   ]
  },
  {
   "cell_type": "markdown",
   "metadata": {},
   "source": [
    "By using `describe()`, we can check most of the measures mentioned above. <br>\n",
    "For the numerical variables, we can check the values of the mean and median (2nd Quartile) calculated above. We can check the standard deviation (and therefore the variance) with the formula mentioned, and calculate the range and IQR of each variable. <br>\n",
    "For the nominal variables, we can see what's the most common output and how many times it occurs."
   ]
  },
  {
   "cell_type": "code",
   "execution_count": 14,
   "metadata": {},
   "outputs": [
    {
     "name": "stdout",
     "output_type": "stream",
     "text": [
      "sbp          20.496317\n",
      "tobacco       4.593024\n",
      "ldl           2.070909\n",
      "adiposity     7.780699\n",
      "typea         9.817534\n",
      "obesity       4.213680\n",
      "alcohol      24.481059\n",
      "age          14.608956\n",
      "dtype: float64 \n",
      "\n",
      "\n",
      "sbp        20.496317\n",
      "tobacco    4.593024\n",
      "ldl        2.070909\n",
      "adiposity  7.780699\n",
      "typea      9.817534\n",
      "obesity    4.21368\n",
      "alcohol    24.481059\n",
      "age        14.608956\n"
     ]
    }
   ],
   "source": [
    "#checking the standard deviation\n",
    "print(mydata.std(),'\\n\\n')\n",
    "\n",
    "for i,col in enumerate(numeric_columns):\n",
    "    sum = 0\n",
    "    mean = mydata.mean()[i]\n",
    "    for j in mydata[col]:\n",
    "        sum += (j - mean) ** 2\n",
    "    std = np.sqrt(1 / 461 * sum)\n",
    "    print(col.ljust(10),round(std,6))"
   ]
  },
  {
   "cell_type": "code",
   "execution_count": 26,
   "metadata": {},
   "outputs": [
    {
     "name": "stdout",
     "output_type": "stream",
     "text": [
      "           range      IQR\n",
      "sbp        117        24.0\n",
      "tobacco    31.2       5.4475\n",
      "ldl        14.35      2.5075\n",
      "adiposity  35.75      11.4525\n",
      "typea      65         13.0\n",
      "obesity    31.88      5.5125\n",
      "alcohol    147.19     23.3825\n",
      "age        49         24.0\n"
     ]
    }
   ],
   "source": [
    "#calculating range and interquartile range\n",
    "print(''.ljust(10),'range'.ljust(10),'IQR')\n",
    "for i,col in enumerate(numeric_columns):\n",
    "    Range = mydata[col].max() - mydata[col].min()\n",
    "    IQR = mydata[col].quantile(q=0.75) - mydata[col].quantile(q=0.25)\n",
    "    print(col.ljust(10),str(round(Range,6)).ljust(10),round(IQR,6))"
   ]
  },
  {
   "cell_type": "markdown",
   "metadata": {},
   "source": [
    "## Outliers"
   ]
  },
  {
   "cell_type": "markdown",
   "metadata": {},
   "source": [
    "**Outliers** are datapoint which differ significantly from other observations. They are sometimes excluded from data analysis. There are various ways to define outliers, but commonly, we have that outliers are values displaced from the outers quartiles from 1.5 times the interquartile range, that is \n",
    "$$x \\leq Q_{1} - 1.5 \\times IQR \\vee x \\geq Q_{3} + 1.5 \\times IQR $$\n",
    "One of the simplest ways to visualise outliers is with the box plot."
   ]
  },
  {
   "cell_type": "markdown",
   "metadata": {},
   "source": [
    "## Multivariate Statistics"
   ]
  },
  {
   "cell_type": "markdown",
   "metadata": {},
   "source": [
    "As the name indicates, multivariate statistics is when we work with more than one variable at a time. <br>\n",
    "Some of the most important measurements of multivariate statistics are the **covariance** which is how much two variables jointly change $$\\text{cov}(X,Y)=\\langle ( \\,X-\\langle X \\rangle ) \\, ( \\,Y - \\langle Y \\rangle ) \\, \\rangle$$\n",
    "and the **correlation** is a measure of how much two variable agree with each other $$\\text {corr}(X,Y)=\\frac{cov(X,Y)}{\\sigma_X \\sigma_Y}$$ where $\\sigma_X$ and $\\sigma_Y$ are the standard deviations of the two variables $X$ and $Y$ (Wikipedia). <br>\n",
    "The correlation matrix is symmetric and its diagonal values are all 1, that is, all variables have maximum correlation with themselves."
   ]
  },
  {
   "cell_type": "code",
   "execution_count": 28,
   "metadata": {},
   "outputs": [
    {
     "data": {
      "text/html": [
       "<div>\n",
       "<style scoped>\n",
       "    .dataframe tbody tr th:only-of-type {\n",
       "        vertical-align: middle;\n",
       "    }\n",
       "\n",
       "    .dataframe tbody tr th {\n",
       "        vertical-align: top;\n",
       "    }\n",
       "\n",
       "    .dataframe thead th {\n",
       "        text-align: right;\n",
       "    }\n",
       "</style>\n",
       "<table border=\"1\" class=\"dataframe\">\n",
       "  <thead>\n",
       "    <tr style=\"text-align: right;\">\n",
       "      <th></th>\n",
       "      <th>sbp</th>\n",
       "      <th>tobacco</th>\n",
       "      <th>ldl</th>\n",
       "      <th>adiposity</th>\n",
       "      <th>typea</th>\n",
       "      <th>obesity</th>\n",
       "      <th>alcohol</th>\n",
       "      <th>age</th>\n",
       "    </tr>\n",
       "  </thead>\n",
       "  <tbody>\n",
       "    <tr>\n",
       "      <th>sbp</th>\n",
       "      <td>1.000000</td>\n",
       "      <td>0.212247</td>\n",
       "      <td>0.158296</td>\n",
       "      <td>0.356500</td>\n",
       "      <td>-0.057454</td>\n",
       "      <td>0.238067</td>\n",
       "      <td>0.140096</td>\n",
       "      <td>0.388771</td>\n",
       "    </tr>\n",
       "    <tr>\n",
       "      <th>tobacco</th>\n",
       "      <td>0.212247</td>\n",
       "      <td>1.000000</td>\n",
       "      <td>0.158905</td>\n",
       "      <td>0.286640</td>\n",
       "      <td>-0.014608</td>\n",
       "      <td>0.124529</td>\n",
       "      <td>0.200813</td>\n",
       "      <td>0.450330</td>\n",
       "    </tr>\n",
       "    <tr>\n",
       "      <th>ldl</th>\n",
       "      <td>0.158296</td>\n",
       "      <td>0.158905</td>\n",
       "      <td>1.000000</td>\n",
       "      <td>0.440432</td>\n",
       "      <td>0.044048</td>\n",
       "      <td>0.330506</td>\n",
       "      <td>-0.033403</td>\n",
       "      <td>0.311799</td>\n",
       "    </tr>\n",
       "    <tr>\n",
       "      <th>adiposity</th>\n",
       "      <td>0.356500</td>\n",
       "      <td>0.286640</td>\n",
       "      <td>0.440432</td>\n",
       "      <td>1.000000</td>\n",
       "      <td>-0.043144</td>\n",
       "      <td>0.716556</td>\n",
       "      <td>0.100330</td>\n",
       "      <td>0.625954</td>\n",
       "    </tr>\n",
       "    <tr>\n",
       "      <th>typea</th>\n",
       "      <td>-0.057454</td>\n",
       "      <td>-0.014608</td>\n",
       "      <td>0.044048</td>\n",
       "      <td>-0.043144</td>\n",
       "      <td>1.000000</td>\n",
       "      <td>0.074006</td>\n",
       "      <td>0.039498</td>\n",
       "      <td>-0.102606</td>\n",
       "    </tr>\n",
       "    <tr>\n",
       "      <th>obesity</th>\n",
       "      <td>0.238067</td>\n",
       "      <td>0.124529</td>\n",
       "      <td>0.330506</td>\n",
       "      <td>0.716556</td>\n",
       "      <td>0.074006</td>\n",
       "      <td>1.000000</td>\n",
       "      <td>0.051620</td>\n",
       "      <td>0.291777</td>\n",
       "    </tr>\n",
       "    <tr>\n",
       "      <th>alcohol</th>\n",
       "      <td>0.140096</td>\n",
       "      <td>0.200813</td>\n",
       "      <td>-0.033403</td>\n",
       "      <td>0.100330</td>\n",
       "      <td>0.039498</td>\n",
       "      <td>0.051620</td>\n",
       "      <td>1.000000</td>\n",
       "      <td>0.101125</td>\n",
       "    </tr>\n",
       "    <tr>\n",
       "      <th>age</th>\n",
       "      <td>0.388771</td>\n",
       "      <td>0.450330</td>\n",
       "      <td>0.311799</td>\n",
       "      <td>0.625954</td>\n",
       "      <td>-0.102606</td>\n",
       "      <td>0.291777</td>\n",
       "      <td>0.101125</td>\n",
       "      <td>1.000000</td>\n",
       "    </tr>\n",
       "  </tbody>\n",
       "</table>\n",
       "</div>"
      ],
      "text/plain": [
       "                sbp   tobacco       ldl  adiposity     typea   obesity  \\\n",
       "sbp        1.000000  0.212247  0.158296   0.356500 -0.057454  0.238067   \n",
       "tobacco    0.212247  1.000000  0.158905   0.286640 -0.014608  0.124529   \n",
       "ldl        0.158296  0.158905  1.000000   0.440432  0.044048  0.330506   \n",
       "adiposity  0.356500  0.286640  0.440432   1.000000 -0.043144  0.716556   \n",
       "typea     -0.057454 -0.014608  0.044048  -0.043144  1.000000  0.074006   \n",
       "obesity    0.238067  0.124529  0.330506   0.716556  0.074006  1.000000   \n",
       "alcohol    0.140096  0.200813 -0.033403   0.100330  0.039498  0.051620   \n",
       "age        0.388771  0.450330  0.311799   0.625954 -0.102606  0.291777   \n",
       "\n",
       "            alcohol       age  \n",
       "sbp        0.140096  0.388771  \n",
       "tobacco    0.200813  0.450330  \n",
       "ldl       -0.033403  0.311799  \n",
       "adiposity  0.100330  0.625954  \n",
       "typea      0.039498 -0.102606  \n",
       "obesity    0.051620  0.291777  \n",
       "alcohol    1.000000  0.101125  \n",
       "age        0.101125  1.000000  "
      ]
     },
     "execution_count": 28,
     "metadata": {},
     "output_type": "execute_result"
    }
   ],
   "source": [
    "#we can check the properties above by getting the correlation matrix of the variables in this dataset\n",
    "mydata.corr()"
   ]
  },
  {
   "cell_type": "markdown",
   "metadata": {},
   "source": [
    "## Graphical Displays"
   ]
  },
  {
   "cell_type": "markdown",
   "metadata": {},
   "source": [
    "Pandas has several ways to display graphics of our data that are useful in statistical analysis. <br>\n",
    "Here we explore the box plot, the bar plot, the pie plot, the histogram, the density plot, the quantile plot, and for multivariate statistics, the scatter plot."
   ]
  },
  {
   "cell_type": "markdown",
   "metadata": {},
   "source": [
    "### Box plot"
   ]
  },
  {
   "cell_type": "markdown",
   "metadata": {},
   "source": [
    "Displays the dataset based on the five-number summary described above, that is, the minimum, maximum, and the 3 quartiles. The minimum and maximum displayed do not include outliers, so it's a clear way to see them."
   ]
  },
  {
   "cell_type": "code",
   "execution_count": 32,
   "metadata": {},
   "outputs": [
    {
     "data": {
      "text/plain": [
       "<AxesSubplot:>"
      ]
     },
     "execution_count": 32,
     "metadata": {},
     "output_type": "execute_result"
    },
    {
     "data": {
      "image/png": "[encoded data removed]",
      "text/plain": [
       "<Figure size 432x288 with 1 Axes>"
      ]
     },
     "metadata": {
      "needs_background": "light"
     },
     "output_type": "display_data"
    }
   ],
   "source": [
    "#lets check for our data, say for the tobbaco column\n",
    "mydata['tobacco'].plot.box()\n",
    "#we can see several outliers above the maximum value"
   ]
  },
  {
   "cell_type": "markdown",
   "metadata": {},
   "source": [
    "### Bar plot"
   ]
  },
  {
   "cell_type": "markdown",
   "metadata": {},
   "source": [
    "The bar plot presents categorical data with rectangular bars with heights proportional to the values they represent. "
   ]
  },
  {
   "cell_type": "code",
   "execution_count": 34,
   "metadata": {},
   "outputs": [
    {
     "data": {
      "text/plain": [
       "<AxesSubplot:>"
      ]
     },
     "execution_count": 34,
     "metadata": {},
     "output_type": "execute_result"
    },
    {
     "data": {
      "image/png": "[encoded data removed]",
      "text/plain": [
       "<Figure size 432x288 with 1 Axes>"
      ]
     },
     "metadata": {
      "needs_background": "light"
     },
     "output_type": "display_data"
    }
   ],
   "source": [
    "#example for 'chd'\n",
    "mydata['chd'].value_counts().plot.bar()"
   ]
  },
  {
   "cell_type": "markdown",
   "metadata": {},
   "source": [
    "### Pie plot"
   ]
  },
  {
   "cell_type": "markdown",
   "metadata": {},
   "source": [
    "A pie plot is a circular display of data to illustrate numerical proportions. The arc length of each slice is proportional to the quantity it represents."
   ]
  },
  {
   "cell_type": "code",
   "execution_count": 36,
   "metadata": {},
   "outputs": [
    {
     "data": {
      "text/plain": [
       "<AxesSubplot:ylabel='famhist'>"
      ]
     },
     "execution_count": 36,
     "metadata": {},
     "output_type": "execute_result"
    },
    {
     "data": {
      "image/png": "[encoded data removed]",
      "text/plain": [
       "<Figure size 432x288 with 1 Axes>"
      ]
     },
     "metadata": {},
     "output_type": "display_data"
    }
   ],
   "source": [
    "#lets check for 'famhist' this time\n",
    "mydata['famhist'].value_counts().plot.pie()"
   ]
  },
  {
   "cell_type": "markdown",
   "metadata": {},
   "source": [
    "### Histogram"
   ]
  },
  {
   "cell_type": "markdown",
   "metadata": {},
   "source": [
    "A histogram is an approximate representation of th distribution of numerical data, where we divide the ranf of values into a series of intervals - bins - and count how many values fall into each interval."
   ]
  },
  {
   "cell_type": "code",
   "execution_count": 37,
   "metadata": {},
   "outputs": [
    {
     "data": {
      "text/plain": [
       "<AxesSubplot:ylabel='Frequency'>"
      ]
     },
     "execution_count": 37,
     "metadata": {},
     "output_type": "execute_result"
    },
    {
     "data": {
      "image/png": "[encoded data removed]",
      "text/plain": [
       "<Figure size 432x288 with 1 Axes>"
      ]
     },
     "metadata": {
      "needs_background": "light"
     },
     "output_type": "display_data"
    }
   ],
   "source": [
    "#lets see an histogram for the 'tobacco' variable\n",
    "mydata['tobacco'].plot.hist(\n",
    ")"
   ]
  },
  {
   "cell_type": "markdown",
   "metadata": {},
   "source": [
    "### Density plot"
   ]
  },
  {
   "cell_type": "markdown",
   "metadata": {},
   "source": [
    "A density plot is a plot used to observe the distribution of a variable in a dataset. It tries to estimate the probability density funcion of the variable, using kernel density estimates."
   ]
  },
  {
   "cell_type": "code",
   "execution_count": 39,
   "metadata": {},
   "outputs": [
    {
     "data": {
      "text/plain": [
       "<AxesSubplot:ylabel='Density'>"
      ]
     },
     "execution_count": 39,
     "metadata": {},
     "output_type": "execute_result"
    },
    {
     "data": {
      "image/png": "[encoded data removed]",
      "text/plain": [
       "<Figure size 432x288 with 1 Axes>"
      ]
     },
     "metadata": {
      "needs_background": "light"
     },
     "output_type": "display_data"
    }
   ],
   "source": [
    "#example for the 'sbp' variable\n",
    "mydata['sbp'].plot.density()"
   ]
  },
  {
   "cell_type": "markdown",
   "metadata": {},
   "source": [
    "### Quantile plot"
   ]
  },
  {
   "cell_type": "markdown",
   "metadata": {},
   "source": [
    "The quantile plot is a graphical method of comparing two probability distributions, by plotting their quantiles against each other."
   ]
  },
  {
   "cell_type": "code",
   "execution_count": 45,
   "metadata": {},
   "outputs": [
    {
     "data": {
      "image/png": "[encoded data removed]",
      "text/plain": [
       "<Figure size 432x288 with 1 Axes>"
      ]
     },
     "execution_count": 45,
     "metadata": {},
     "output_type": "execute_result"
    },
    {
     "data": {
      "image/png": "[encoded data removed]",
      "text/plain": [
       "<Figure size 432x288 with 1 Axes>"
      ]
     },
     "metadata": {
      "needs_background": "light"
     },
     "output_type": "display_data"
    }
   ],
   "source": [
    "#example with the 'tobacco' variable\n",
    "sm.qqplot(mydata['tobacco'])"
   ]
  },
  {
   "cell_type": "markdown",
   "metadata": {},
   "source": [
    "### Scatter plots"
   ]
  },
  {
   "cell_type": "markdown",
   "metadata": {},
   "source": [
    "Scatter plots use Cartesian coordinates to display values for typically two variables for a set of data. Particularly useful for multivariate statistics."
   ]
  },
  {
   "cell_type": "code",
   "execution_count": 46,
   "metadata": {},
   "outputs": [
    {
     "data": {
      "text/plain": [
       "<AxesSubplot:xlabel='age', ylabel='tobacco'>"
      ]
     },
     "execution_count": 46,
     "metadata": {},
     "output_type": "execute_result"
    },
    {
     "data": {
      "image/png": "[encoded data removed]",
      "text/plain": [
       "<Figure size 432x288 with 1 Axes>"
      ]
     },
     "metadata": {
      "needs_background": "light"
     },
     "output_type": "display_data"
    }
   ],
   "source": [
    "#example for 'age' and 'tobacco'\n",
    "mydata.plot.scatter('age','tobacco')"
   ]
  },
  {
   "cell_type": "markdown",
   "metadata": {},
   "source": [
    "## References"
   ]
  },
  {
   "cell_type": "markdown",
   "metadata": {},
   "source": [
    "As references in this work, I used Wikipedia and material from the class lectures."
   ]
  }
 ],
 "metadata": {
  "kernelspec": {
   "display_name": "Python 3",
   "language": "python",
   "name": "python3"
  },
  "language_info": {
   "codemirror_mode": {
    "name": "ipython",
    "version": 3
   },
   "file_extension": ".py",
   "mimetype": "text/x-python",
   "name": "python",
   "nbconvert_exporter": "python",
   "pygments_lexer": "ipython3",
   "version": "3.8.5"
  }
 },
 "nbformat": 4,
 "nbformat_minor": 4
}
