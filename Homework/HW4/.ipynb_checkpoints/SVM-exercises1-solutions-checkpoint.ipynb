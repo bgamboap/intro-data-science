{
 "cells": [
  {
   "cell_type": "markdown",
   "metadata": {},
   "source": [
    "# SVM exercises\n",
    "\n",
    "## Testing hypotheses with the full Iris data set\n",
    "\n",
    "1. Apply SVM classifier to the full, 3 classes, iris data set. Use a 20% holdout to obtain the confusion matrix for a linear kernel.\n",
    "2. Try different values for the cost C from 1E-10 to 2. What do you observe?\n",
    "3. Try using other kernels.\n",
    "4. Formulate at least 2 hypotheses regarding this classification problem and the hyperparameters `kernel`and `C`. For example: the X kernel is better than the Y kernel when C=Y; given a kernel, using a value of C of X is the same as using Y.\n",
    "5. Check your hypotheses using 10 fold corss validation and t-test. Don't forget to shuffle."
   ]
  },
  {
   "cell_type": "code",
   "execution_count": 50,
   "metadata": {},
   "outputs": [
    {
     "data": {
      "text/plain": [
       "array([[10,  0,  0],\n",
       "       [ 0,  9,  1],\n",
       "       [ 0,  0, 10]])"
      ]
     },
     "execution_count": 50,
     "metadata": {},
     "output_type": "execute_result"
    }
   ],
   "source": [
    "# 1\n",
    "\n",
    "from sklearn.model_selection import train_test_split\n",
    "from sklearn.datasets import load_iris\n",
    "from sklearn.svm import SVC\n",
    "from sklearn.metrics import confusion_matrix\n",
    "from sklearn.metrics import accuracy_score\n",
    "\n",
    "\n",
    "iris = load_iris()\n",
    "X, y = iris.data, iris.target\n",
    "\n",
    "X_train, X_test, y_train, y_test = train_test_split(X, y, stratify=y, test_size=0.2)\n",
    "\n",
    "model = SVC(kernel='rbf', C=100)\n",
    "model.fit(X, y)\n",
    "\n",
    "y_pred=model.predict(X_test)\n",
    "cm = confusion_matrix(y_test, y_pred)\n",
    "cm\n"
   ]
  },
  {
   "cell_type": "code",
   "execution_count": 51,
   "metadata": {},
   "outputs": [
    {
     "data": {
      "text/plain": [
       "array([0.93333333, 0.93333333, 0.93333333, 1.        , 1.        ,\n",
       "       1.        , 1.        , 0.93333333, 1.        , 1.        ])"
      ]
     },
     "execution_count": 51,
     "metadata": {},
     "output_type": "execute_result"
    }
   ],
   "source": [
    "from sklearn.model_selection import cross_val_score\n",
    "from sklearn.model_selection import ShuffleSplit\n",
    "\n",
    "cv = ShuffleSplit(n_splits=10)\n",
    "scores=cross_val_score(model, X, y, cv=cv)\n",
    "scores"
   ]
  },
  {
   "cell_type": "code",
   "execution_count": 59,
   "metadata": {},
   "outputs": [
    {
     "name": "stdout",
     "output_type": "stream",
     "text": [
      "scores linear: [1.         1.         0.86666667 0.86666667 1.         0.93333333\n",
      " 1.         0.93333333 1.         1.        ]\n",
      "scores rbf: [1.         0.93333333 0.93333333 1.         1.         1.\n",
      " 0.93333333 0.86666667 0.86666667 0.93333333]\n",
      "mean linear: 0.96\n",
      "mean rbf: 0.9466666666666667\n"
     ]
    },
    {
     "data": {
      "text/plain": [
       "Ttest_relResult(statistic=0.5144957554275265, pvalue=0.6193005100381609)"
      ]
     },
     "execution_count": 59,
     "metadata": {},
     "output_type": "execute_result"
    }
   ],
   "source": [
    "import numpy as np\n",
    "from scipy import stats\n",
    "\n",
    "model_linear = SVC(kernel='linear', C=1000)\n",
    "model_rbf = SVC(kernel='linear', C=1e-1)\n",
    "\n",
    "scores_linear=cross_val_score(model_linear, X, y, cv=cv)\n",
    "scores_rbf=cross_val_score(model_rbf, X, y, cv=cv)\n",
    "\n",
    "print(\"scores linear:\",scores_linear)\n",
    "print(\"scores rbf:\",scores_rbf)\n",
    "print(\"mean linear:\",np.mean(scores_linear))\n",
    "print(\"mean rbf:\",np.mean(scores_rbf))\n",
    "stats.ttest_rel(scores_linear, scores_rbf)"
   ]
  }
 ],
 "metadata": {
  "kernelspec": {
   "display_name": "Python 3",
   "language": "python",
   "name": "python3"
  },
  "language_info": {
   "codemirror_mode": {
    "name": "ipython",
    "version": 3
   },
   "file_extension": ".py",
   "mimetype": "text/x-python",
   "name": "python",
   "nbconvert_exporter": "python",
   "pygments_lexer": "ipython3",
   "version": "3.8.3"
  }
 },
 "nbformat": 4,
 "nbformat_minor": 4
}
