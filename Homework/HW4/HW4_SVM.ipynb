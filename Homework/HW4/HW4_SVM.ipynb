{
 "cells": [
  {
   "cell_type": "markdown",
   "metadata": {},
   "source": [
    "# Homework Assignement 4 - SVM exercises\n",
    "Beatriz Gamboa Pereira - 201705220"
   ]
  },
  {
   "cell_type": "code",
   "execution_count": 9,
   "metadata": {},
   "outputs": [],
   "source": [
    "import numpy as np\n",
    "import matplotlib.pyplot as plt\n",
    "import pandas as pd\n",
    "import scipy as sp\n",
    "from sklearn.datasets import load_iris\n",
    "import sklearn.model_selection as skm\n",
    "from sklearn.svm import SVC\n",
    "from sklearn.metrics import confusion_matrix\n",
    "from sklearn.metrics import accuracy_score "
   ]
  },
  {
   "cell_type": "code",
   "execution_count": 10,
   "metadata": {},
   "outputs": [],
   "source": [
    "# loading attributes and classes of the iris dataset\n",
    "X, y = load_iris(return_X_y= True)"
   ]
  },
  {
   "cell_type": "markdown",
   "metadata": {},
   "source": [
    "1. Apply SVM classifier to the full, 3 classes, iris data set. Use a 20% holdout to obtain the confusion matrix for a linear kernel.\n"
   ]
  },
  {
   "cell_type": "code",
   "execution_count": 11,
   "metadata": {},
   "outputs": [
    {
     "name": "stdout",
     "output_type": "stream",
     "text": [
      "[[ 7  0  0]\n",
      " [ 0 11  0]\n",
      " [ 0  0 12]]\n"
     ]
    }
   ],
   "source": [
    "# split dataset in train and test\n",
    "xTrain, xTest, yTrain, yTest = skm.train_test_split(X, y, random_state = 27, train_size = 0.8)\n",
    "\n",
    "# chosing SVC model and applying to the training set \n",
    "Mod = SVC(kernel='linear')\n",
    "Mod.fit(xTrain, yTrain)\n",
    "# finding y predicted\n",
    "yPred = Mod.predict(xTest)\n",
    "\n",
    "confusionMatrix = confusion_matrix(yTest, yPred)\n",
    "print(confusionMatrix)"
   ]
  },
  {
   "cell_type": "markdown",
   "metadata": {},
   "source": [
    "2. Try different values for the cost C from 1E-10 to 2. What do you observe?"
   ]
  },
  {
   "cell_type": "code",
   "execution_count": 12,
   "metadata": {},
   "outputs": [
    {
     "name": "stdout",
     "output_type": "stream",
     "text": [
      "Cost:  0.0\n",
      "Accuracy score:  0.23\n",
      "[[ 7  0  0]\n",
      " [11  0  0]\n",
      " [12  0  0]] \n",
      "\n",
      "Cost:  0.22\n",
      "Accuracy score:  0.97\n",
      "[[ 7  0  0]\n",
      " [ 0 10  1]\n",
      " [ 0  0 12]] \n",
      "\n",
      "Cost:  0.44\n",
      "Accuracy score:  1.0\n",
      "[[ 7  0  0]\n",
      " [ 0 11  0]\n",
      " [ 0  0 12]] \n",
      "\n",
      "Cost:  0.67\n",
      "Accuracy score:  0.97\n",
      "[[ 7  0  0]\n",
      " [ 0 11  0]\n",
      " [ 0  1 11]] \n",
      "\n",
      "Cost:  0.89\n",
      "Accuracy score:  1.0\n",
      "[[ 7  0  0]\n",
      " [ 0 11  0]\n",
      " [ 0  0 12]] \n",
      "\n",
      "Cost:  1.11\n",
      "Accuracy score:  0.97\n",
      "[[ 7  0  0]\n",
      " [ 0 11  0]\n",
      " [ 0  1 11]] \n",
      "\n",
      "Cost:  1.33\n",
      "Accuracy score:  0.93\n",
      "[[ 7  0  0]\n",
      " [ 0 10  1]\n",
      " [ 0  1 11]] \n",
      "\n",
      "Cost:  1.56\n",
      "Accuracy score:  0.93\n",
      "[[ 7  0  0]\n",
      " [ 0 10  1]\n",
      " [ 0  1 11]] \n",
      "\n",
      "Cost:  1.78\n",
      "Accuracy score:  0.93\n",
      "[[ 7  0  0]\n",
      " [ 0 10  1]\n",
      " [ 0  1 11]] \n",
      "\n",
      "Cost:  2.0\n",
      "Accuracy score:  0.97\n",
      "[[ 7  0  0]\n",
      " [ 0 11  0]\n",
      " [ 0  1 11]] \n",
      "\n"
     ]
    }
   ],
   "source": [
    "costs = np.linspace(1e-10,2,10)\n",
    "\n",
    "for cost in costs:\n",
    "    mod = SVC(kernel='linear', C=cost)\n",
    "    mod.fit(xTrain, yTrain)\n",
    "    \n",
    "    yPred = mod.predict(xTest)\n",
    "    \n",
    "    confMat = confusion_matrix(yTest, yPred)\n",
    "    \n",
    "    print('Cost: ', round(cost,2))\n",
    "    print('Accuracy score: ', round(accuracy_score(yTest, yPred),2))\n",
    "    print(confMat, '\\n')"
   ]
  },
  {
   "cell_type": "markdown",
   "metadata": {},
   "source": [
    "For the chosen seed, we can't really see the dependency of the accuracy of the model with the different costs, but, in general we get good results except for the first cost of 1e-10."
   ]
  },
  {
   "cell_type": "markdown",
   "metadata": {},
   "source": [
    "3. Try using other kernels."
   ]
  },
  {
   "cell_type": "code",
   "execution_count": 13,
   "metadata": {},
   "outputs": [],
   "source": [
    "def testKernelCost(Costs,Kern):\n",
    "    print('Costs: ',Costs)\n",
    "    print(Kern, ' kernel\\n\\n')\n",
    "\n",
    "    for cost in Costs:\n",
    "        MOD = SVC(kernel=Kern, C=cost)\n",
    "        MOD.fit(xTrain, yTrain)\n",
    "\n",
    "        yPred = MOD.predict(xTest)\n",
    "\n",
    "        confMat = confusion_matrix(yTest, yPred)\n",
    "\n",
    "        print('Cost: ', round(cost,2))\n",
    "        print('Accuracy score: ', round(accuracy_score(yTest, yPred),2))\n",
    "        print(confMat, '\\n')"
   ]
  },
  {
   "cell_type": "code",
   "execution_count": 14,
   "metadata": {},
   "outputs": [
    {
     "name": "stdout",
     "output_type": "stream",
     "text": [
      "Costs:  [1.00000000e-10 2.22222222e-01 4.44444445e-01 6.66666667e-01\n",
      " 8.88888889e-01 1.11111111e+00 1.33333333e+00 1.55555556e+00\n",
      " 1.77777778e+00 2.00000000e+00]\n",
      "rbf  kernel\n",
      "\n",
      "\n",
      "Cost:  0.0\n",
      "Accuracy score:  0.23\n",
      "[[ 7  0  0]\n",
      " [11  0  0]\n",
      " [12  0  0]] \n",
      "\n",
      "Cost:  0.22\n",
      "Accuracy score:  0.93\n",
      "[[ 7  0  0]\n",
      " [ 0 10  1]\n",
      " [ 0  1 11]] \n",
      "\n",
      "Cost:  0.44\n",
      "Accuracy score:  0.93\n",
      "[[ 7  0  0]\n",
      " [ 0 10  1]\n",
      " [ 0  1 11]] \n",
      "\n",
      "Cost:  0.67\n",
      "Accuracy score:  0.93\n",
      "[[ 7  0  0]\n",
      " [ 0 10  1]\n",
      " [ 0  1 11]] \n",
      "\n",
      "Cost:  0.89\n",
      "Accuracy score:  0.93\n",
      "[[ 7  0  0]\n",
      " [ 0 10  1]\n",
      " [ 0  1 11]] \n",
      "\n",
      "Cost:  1.11\n",
      "Accuracy score:  0.93\n",
      "[[ 7  0  0]\n",
      " [ 0 10  1]\n",
      " [ 0  1 11]] \n",
      "\n",
      "Cost:  1.33\n",
      "Accuracy score:  0.93\n",
      "[[ 7  0  0]\n",
      " [ 0 10  1]\n",
      " [ 0  1 11]] \n",
      "\n",
      "Cost:  1.56\n",
      "Accuracy score:  0.93\n",
      "[[ 7  0  0]\n",
      " [ 0 10  1]\n",
      " [ 0  1 11]] \n",
      "\n",
      "Cost:  1.78\n",
      "Accuracy score:  0.97\n",
      "[[ 7  0  0]\n",
      " [ 0 10  1]\n",
      " [ 0  0 12]] \n",
      "\n",
      "Cost:  2.0\n",
      "Accuracy score:  0.97\n",
      "[[ 7  0  0]\n",
      " [ 0 10  1]\n",
      " [ 0  0 12]] \n",
      "\n"
     ]
    }
   ],
   "source": [
    "testKernelCost(costs,'rbf')"
   ]
  },
  {
   "cell_type": "code",
   "execution_count": 15,
   "metadata": {},
   "outputs": [
    {
     "name": "stdout",
     "output_type": "stream",
     "text": [
      "Costs:  [1.00000000e-10 2.22222222e-01 4.44444445e-01 6.66666667e-01\n",
      " 8.88888889e-01 1.11111111e+00 1.33333333e+00 1.55555556e+00\n",
      " 1.77777778e+00 2.00000000e+00]\n",
      "poly  kernel\n",
      "\n",
      "\n",
      "Cost:  0.0\n",
      "Accuracy score:  0.23\n",
      "[[ 7  0  0]\n",
      " [11  0  0]\n",
      " [12  0  0]] \n",
      "\n",
      "Cost:  0.22\n",
      "Accuracy score:  0.93\n",
      "[[ 7  0  0]\n",
      " [ 0 10  1]\n",
      " [ 0  1 11]] \n",
      "\n",
      "Cost:  0.44\n",
      "Accuracy score:  0.93\n",
      "[[ 7  0  0]\n",
      " [ 0 10  1]\n",
      " [ 0  1 11]] \n",
      "\n",
      "Cost:  0.67\n",
      "Accuracy score:  0.93\n",
      "[[ 7  0  0]\n",
      " [ 0 10  1]\n",
      " [ 0  1 11]] \n",
      "\n",
      "Cost:  0.89\n",
      "Accuracy score:  0.93\n",
      "[[ 7  0  0]\n",
      " [ 0 10  1]\n",
      " [ 0  1 11]] \n",
      "\n",
      "Cost:  1.11\n",
      "Accuracy score:  0.9\n",
      "[[ 7  0  0]\n",
      " [ 0 10  1]\n",
      " [ 0  2 10]] \n",
      "\n",
      "Cost:  1.33\n",
      "Accuracy score:  0.93\n",
      "[[ 7  0  0]\n",
      " [ 0 10  1]\n",
      " [ 0  1 11]] \n",
      "\n",
      "Cost:  1.56\n",
      "Accuracy score:  0.93\n",
      "[[ 7  0  0]\n",
      " [ 0 10  1]\n",
      " [ 0  1 11]] \n",
      "\n",
      "Cost:  1.78\n",
      "Accuracy score:  0.9\n",
      "[[ 7  0  0]\n",
      " [ 0 10  1]\n",
      " [ 0  2 10]] \n",
      "\n",
      "Cost:  2.0\n",
      "Accuracy score:  0.9\n",
      "[[ 7  0  0]\n",
      " [ 0 10  1]\n",
      " [ 0  2 10]] \n",
      "\n"
     ]
    }
   ],
   "source": [
    "testKernelCost(costs,'poly')"
   ]
  },
  {
   "cell_type": "markdown",
   "metadata": {},
   "source": [
    "Again, for the chosen seed, we see that we get relatively good results in general, except for the first 1e-10 cost. We notice that poly gives slightly worse results than linear and rbf."
   ]
  },
  {
   "cell_type": "markdown",
   "metadata": {},
   "source": [
    "4. Formulate at least 2 hypotheses regarding this classification problem and the hyperparameters kernel and C. For example: the X kernel is better than the Y kernel when C=Y; given a kernel, using a value of C of X is the same as using Y."
   ]
  },
  {
   "cell_type": "markdown",
   "metadata": {},
   "source": [
    "**Hypothesis 1:** For the two costs of $C=1$ and $C=1.78$, and the same kernel - linear, $C=1.78$ gives better results. $\\to$ $H_{0} : $ $C=1$ and $C=1.78$ both give the same results for the same kernel - linear"
   ]
  },
  {
   "cell_type": "markdown",
   "metadata": {},
   "source": [
    "**Hypothesis 2:** For the two kernels poly and rbf and the same cost $C=1.78$, poly gives better results. $\\to$ $H_{0} : $ poly and rbf give the same results for the same cost $C=1.78$."
   ]
  },
  {
   "cell_type": "markdown",
   "metadata": {},
   "source": [
    "5. Check your hypotheses using 10 fold corss validation and t-test. Don't forget to shuffle."
   ]
  },
  {
   "cell_type": "code",
   "execution_count": 16,
   "metadata": {},
   "outputs": [
    {
     "name": "stdout",
     "output_type": "stream",
     "text": [
      "Hypothesis 1:  Ttest_relResult(statistic=-0.42857142857142855, pvalue=0.6783097418055798)\n",
      "Hypothesis 2:  Ttest_relResult(statistic=0.5570860145311556, pvalue=0.5910512317836047)\n"
     ]
    }
   ],
   "source": [
    "X, y = load_iris(return_X_y = True)\n",
    "shuffled = skm.ShuffleSplit(n_splits=10, random_state = 27)\n",
    "\n",
    "# Hypothesis 1 - samme kernel different costs\n",
    "\n",
    "m1 = SVC(kernel = 'poly', C=1)\n",
    "score1 = skm.cross_val_score(m1, X, y, cv=shuffled)\n",
    "\n",
    "m2 = SVC(kernel = 'poly', C=1.78)\n",
    "score2 = skm.cross_val_score(m2, X, y, cv=shuffled)\n",
    "\n",
    "relativeH1 = sp.stats.ttest_rel(score1,score2)\n",
    "\n",
    "print('Hypothesis 1: ', relativeH1)\n",
    "\n",
    "\n",
    "# Hypothesis 2 - samme cost different kernels\n",
    "\n",
    "mPoly = SVC(kernel = 'poly', C=1.78)\n",
    "scorePoly = skm.cross_val_score(mPoly, X, y, cv=shuffled)\n",
    "\n",
    "mRBF = SVC(kernel = 'rbf', C=1.78)\n",
    "scoreRBF = skm.cross_val_score(mRBF, X, y, cv=shuffled)\n",
    "\n",
    "relativeH2 = sp.stats.ttest_rel(scorePoly,scoreRBF)\n",
    "\n",
    "print('Hypothesis 2: ', relativeH2)"
   ]
  },
  {
   "cell_type": "markdown",
   "metadata": {},
   "source": [
    "For both tests, we see that pvalue is greater than $\\alpha=0.05$, so both our hypothesis are rejected, which means that $H_0$ is accepted in both cases. Conclusion, for the given seed, our results are similar if we vary kernel and cost independently. This could be further tested if we changed seeds, for example."
   ]
  }
 ],
 "metadata": {
  "kernelspec": {
   "display_name": "Python 3",
   "language": "python",
   "name": "python3"
  },
  "language_info": {
   "codemirror_mode": {
    "name": "ipython",
    "version": 3
   },
   "file_extension": ".py",
   "mimetype": "text/x-python",
   "name": "python",
   "nbconvert_exporter": "python",
   "pygments_lexer": "ipython3",
   "version": "3.8.6"
  }
 },
 "nbformat": 4,
 "nbformat_minor": 4
}
