{
 "cells": [
  {
   "cell_type": "code",
   "execution_count": 3,
   "metadata": {},
   "outputs": [
    {
     "data": {
      "text/html": [
       "<div>\n",
       "<style scoped>\n",
       "    .dataframe tbody tr th:only-of-type {\n",
       "        vertical-align: middle;\n",
       "    }\n",
       "\n",
       "    .dataframe tbody tr th {\n",
       "        vertical-align: top;\n",
       "    }\n",
       "\n",
       "    .dataframe thead th {\n",
       "        text-align: right;\n",
       "    }\n",
       "</style>\n",
       "<table border=\"1\" class=\"dataframe\">\n",
       "  <thead>\n",
       "    <tr style=\"text-align: right;\">\n",
       "      <th></th>\n",
       "      <th>Suburb</th>\n",
       "      <th>Address</th>\n",
       "      <th>Rooms</th>\n",
       "      <th>Type</th>\n",
       "      <th>Price</th>\n",
       "      <th>Method</th>\n",
       "      <th>SellerG</th>\n",
       "      <th>Date</th>\n",
       "      <th>Distance</th>\n",
       "      <th>Postcode</th>\n",
       "      <th>...</th>\n",
       "      <th>Bathroom</th>\n",
       "      <th>Car</th>\n",
       "      <th>Landsize</th>\n",
       "      <th>BuildingArea</th>\n",
       "      <th>YearBuilt</th>\n",
       "      <th>CouncilArea</th>\n",
       "      <th>Lattitude</th>\n",
       "      <th>Longtitude</th>\n",
       "      <th>Regionname</th>\n",
       "      <th>Propertycount</th>\n",
       "    </tr>\n",
       "  </thead>\n",
       "  <tbody>\n",
       "    <tr>\n",
       "      <th>11039</th>\n",
       "      <td>Brunswick East</td>\n",
       "      <td>10 Harrison St</td>\n",
       "      <td>3</td>\n",
       "      <td>h</td>\n",
       "      <td>1310000.0</td>\n",
       "      <td>S</td>\n",
       "      <td>Nelson</td>\n",
       "      <td>3/12/2016</td>\n",
       "      <td>4.5</td>\n",
       "      <td>3057.0</td>\n",
       "      <td>...</td>\n",
       "      <td>1.0</td>\n",
       "      <td>2.0</td>\n",
       "      <td>456.0</td>\n",
       "      <td>144.0</td>\n",
       "      <td>1950.0</td>\n",
       "      <td>Moreland City Council</td>\n",
       "      <td>-37.7638</td>\n",
       "      <td>144.9804</td>\n",
       "      <td>Northern Metropolitan</td>\n",
       "      <td>5533.0</td>\n",
       "    </tr>\n",
       "    <tr>\n",
       "      <th>9984</th>\n",
       "      <td>Sunshine West</td>\n",
       "      <td>8a Glengala Rd</td>\n",
       "      <td>3</td>\n",
       "      <td>h</td>\n",
       "      <td>622500.0</td>\n",
       "      <td>S</td>\n",
       "      <td>Douglas</td>\n",
       "      <td>24/09/2016</td>\n",
       "      <td>13.5</td>\n",
       "      <td>3020.0</td>\n",
       "      <td>...</td>\n",
       "      <td>1.0</td>\n",
       "      <td>1.0</td>\n",
       "      <td>534.0</td>\n",
       "      <td>131.0</td>\n",
       "      <td>1970.0</td>\n",
       "      <td>Brimbank City Council</td>\n",
       "      <td>-37.7887</td>\n",
       "      <td>144.8231</td>\n",
       "      <td>Western Metropolitan</td>\n",
       "      <td>6763.0</td>\n",
       "    </tr>\n",
       "    <tr>\n",
       "      <th>8259</th>\n",
       "      <td>Preston</td>\n",
       "      <td>22/2 Arthur St</td>\n",
       "      <td>1</td>\n",
       "      <td>u</td>\n",
       "      <td>300000.0</td>\n",
       "      <td>PI</td>\n",
       "      <td>Nelson</td>\n",
       "      <td>24/09/2016</td>\n",
       "      <td>8.8</td>\n",
       "      <td>3072.0</td>\n",
       "      <td>...</td>\n",
       "      <td>1.0</td>\n",
       "      <td>1.0</td>\n",
       "      <td>0.0</td>\n",
       "      <td>67.0</td>\n",
       "      <td>2005.0</td>\n",
       "      <td>Darebin City Council</td>\n",
       "      <td>-37.7441</td>\n",
       "      <td>144.9999</td>\n",
       "      <td>Northern Metropolitan</td>\n",
       "      <td>14577.0</td>\n",
       "    </tr>\n",
       "    <tr>\n",
       "      <th>9156</th>\n",
       "      <td>South Melbourne</td>\n",
       "      <td>50 Bridport St</td>\n",
       "      <td>2</td>\n",
       "      <td>h</td>\n",
       "      <td>2000000.0</td>\n",
       "      <td>PI</td>\n",
       "      <td>Greg</td>\n",
       "      <td>16/04/2016</td>\n",
       "      <td>2.1</td>\n",
       "      <td>3205.0</td>\n",
       "      <td>...</td>\n",
       "      <td>2.0</td>\n",
       "      <td>1.0</td>\n",
       "      <td>141.0</td>\n",
       "      <td>150.0</td>\n",
       "      <td>1900.0</td>\n",
       "      <td>Port Phillip City Council</td>\n",
       "      <td>-37.8389</td>\n",
       "      <td>144.9612</td>\n",
       "      <td>Southern Metropolitan</td>\n",
       "      <td>5943.0</td>\n",
       "    </tr>\n",
       "    <tr>\n",
       "      <th>6567</th>\n",
       "      <td>Maribyrnong</td>\n",
       "      <td>104/5 Ordnance Res</td>\n",
       "      <td>2</td>\n",
       "      <td>u</td>\n",
       "      <td>400000.0</td>\n",
       "      <td>SP</td>\n",
       "      <td>Biggin</td>\n",
       "      <td>12/11/2016</td>\n",
       "      <td>8.7</td>\n",
       "      <td>3032.0</td>\n",
       "      <td>...</td>\n",
       "      <td>1.0</td>\n",
       "      <td>2.0</td>\n",
       "      <td>3967.0</td>\n",
       "      <td>87.0</td>\n",
       "      <td>2007.0</td>\n",
       "      <td>Maribyrnong City Council</td>\n",
       "      <td>-37.7706</td>\n",
       "      <td>144.8805</td>\n",
       "      <td>Western Metropolitan</td>\n",
       "      <td>4918.0</td>\n",
       "    </tr>\n",
       "  </tbody>\n",
       "</table>\n",
       "<p>5 rows × 21 columns</p>\n",
       "</div>"
      ],
      "text/plain": [
       "                Suburb             Address  Rooms Type      Price Method  \\\n",
       "11039   Brunswick East      10 Harrison St      3    h  1310000.0      S   \n",
       "9984     Sunshine West      8a Glengala Rd      3    h   622500.0      S   \n",
       "8259           Preston      22/2 Arthur St      1    u   300000.0     PI   \n",
       "9156   South Melbourne      50 Bridport St      2    h  2000000.0     PI   \n",
       "6567       Maribyrnong  104/5 Ordnance Res      2    u   400000.0     SP   \n",
       "\n",
       "       SellerG        Date  Distance  Postcode  ...  Bathroom  Car  Landsize  \\\n",
       "11039   Nelson   3/12/2016       4.5    3057.0  ...       1.0  2.0     456.0   \n",
       "9984   Douglas  24/09/2016      13.5    3020.0  ...       1.0  1.0     534.0   \n",
       "8259    Nelson  24/09/2016       8.8    3072.0  ...       1.0  1.0       0.0   \n",
       "9156      Greg  16/04/2016       2.1    3205.0  ...       2.0  1.0     141.0   \n",
       "6567    Biggin  12/11/2016       8.7    3032.0  ...       1.0  2.0    3967.0   \n",
       "\n",
       "       BuildingArea  YearBuilt                CouncilArea Lattitude  \\\n",
       "11039         144.0     1950.0      Moreland City Council  -37.7638   \n",
       "9984          131.0     1970.0      Brimbank City Council  -37.7887   \n",
       "8259           67.0     2005.0       Darebin City Council  -37.7441   \n",
       "9156          150.0     1900.0  Port Phillip City Council  -37.8389   \n",
       "6567           87.0     2007.0   Maribyrnong City Council  -37.7706   \n",
       "\n",
       "       Longtitude             Regionname Propertycount  \n",
       "11039    144.9804  Northern Metropolitan        5533.0  \n",
       "9984     144.8231   Western Metropolitan        6763.0  \n",
       "8259     144.9999  Northern Metropolitan       14577.0  \n",
       "9156     144.9612  Southern Metropolitan        5943.0  \n",
       "6567     144.8805   Western Metropolitan        4918.0  \n",
       "\n",
       "[5 rows x 21 columns]"
      ]
     },
     "execution_count": 3,
     "metadata": {},
     "output_type": "execute_result"
    }
   ],
   "source": [
    "import matplotlib.pyplot as plt\n",
    "import numpy as np \n",
    "from sklearn.linear_model import LinearRegression\n",
    "import pandas as pd\n",
    "\n",
    "houses_full=pd.read_csv('Melbourne_housing_FULL.csv')\n",
    "houses=houses_full.dropna()\n",
    "houses=houses.loc[houses['BuildingArea']<1500]\n",
    "houses=houses.sample(1000,random_state=123)\n",
    "\n",
    "houses.head()\n"
   ]
  },
  {
   "cell_type": "code",
   "execution_count": 4,
   "metadata": {},
   "outputs": [
    {
     "data": {
      "text/plain": [
       "(1000,)"
      ]
     },
     "execution_count": 4,
     "metadata": {},
     "output_type": "execute_result"
    },
    {
     "data": {
      "image/png": "[encoded data removed]",
      "text/plain": [
       "<Figure size 432x288 with 3 Axes>"
      ]
     },
     "metadata": {
      "needs_background": "light"
     },
     "output_type": "display_data"
    }
   ],
   "source": [
    "# separate the predictors as x\n",
    "# transform the data frame into an numpy array\n",
    "# this will facilitate slicing for plotting and ML\n",
    "predictors=['BuildingArea','Rooms','Distance']\n",
    "x=np.array(houses.loc[:,predictors])\n",
    "y=np.array(houses.loc[:,'Price'])\n",
    "\n",
    "def priceshrink(v,t):\n",
    "    return int(v/1000000)\n",
    "\n",
    "fig, sc = plt.subplots(1,len(predictors))\n",
    "fig.suptitle('Scatter plots between predictors and target')\n",
    "for i in range(len(predictors)):\n",
    "    sc[i].scatter(x[:,i], y)\n",
    "    sc[i].set(xlabel=predictors[i])\n",
    "    sc[i].yaxis.set_major_formatter(plt.NullFormatter())\n",
    "sc[0].set(ylabel='Price')\n",
    "sc[0].yaxis.set_major_formatter(plt.FuncFormatter(priceshrink))\n",
    "np.shape(y)"
   ]
  },
  {
   "cell_type": "code",
   "execution_count": 112,
   "metadata": {},
   "outputs": [
    {
     "data": {
      "text/plain": [
       "[<matplotlib.lines.Line2D at 0x15c03b910>]"
      ]
     },
     "execution_count": 112,
     "metadata": {},
     "output_type": "execute_result"
    },
    {
     "data": {
      "image/png": "[encoded data removed]",
      "text/plain": [
       "<Figure size 432x288 with 1 Axes>"
      ]
     },
     "metadata": {
      "needs_background": "light"
     },
     "output_type": "display_data"
    }
   ],
   "source": [
    "model = LinearRegression(fit_intercept=True)\n",
    "\n",
    "\n",
    "model.fit(x[:,0:1], y)\n",
    "\n",
    "xfit = np.linspace(0, max(x[:,0]), 1000)\n",
    "# newaxis gives xfit the shape of a matrix\n",
    "yfit = model.predict(xfit[:,np.newaxis])\n",
    "\n",
    "# the building of the plot starts by defining an axes\n",
    "# then you put the scatter plot on the axes\n",
    "# you set a number of things on the axes\n",
    "# etc.\n",
    "# the build of the plot is axes centered\n",
    "ax=plt.axes(label='lrfit')\n",
    "ax.scatter(x[:,0], y)\n",
    "ax.set_ylabel('Price')\n",
    "ax.set_xlabel('BuildingArea')\n",
    "ax.set_xlim(left=0)\n",
    "ax.set_xlim(left=0,right=max(x[:,0]))\n",
    "ax.yaxis.set_major_formatter(plt.FuncFormatter(priceshrink))\n",
    "ax.plot(xfit, yfit,color='red')\n"
   ]
  },
  {
   "cell_type": "code",
   "execution_count": 98,
   "metadata": {},
   "outputs": [
    {
     "name": "stdout",
     "output_type": "stream",
     "text": [
      "Model slope:     5487.962267597321\n",
      "Model intercept: 283793.64117072534\n"
     ]
    }
   ],
   "source": [
    "print(\"Model slope:    \", model.coef_[0])\n",
    "print(\"Model intercept:\", model.intercept_)"
   ]
  },
  {
   "cell_type": "code",
   "execution_count": 105,
   "metadata": {},
   "outputs": [
    {
     "name": "stdout",
     "output_type": "stream",
     "text": [
      "Model R2:     0.38645218072864085\n"
     ]
    }
   ],
   "source": [
    "print(\"Model R2:    \", model.score(x[:,0:1],y))"
   ]
  },
  {
   "cell_type": "code",
   "execution_count": 113,
   "metadata": {},
   "outputs": [
    {
     "name": "stdout",
     "output_type": "stream",
     "text": [
      "Predictors: ['BuildingArea', 'Rooms', 'Distance']\n",
      "Coefficients (alphas):     [  5096.81698113  85404.64073188 -36513.48538364]\n",
      "Model intercept: 482938.626092975\n",
      "Model R2:     0.5021785990606764\n"
     ]
    }
   ],
   "source": [
    "model.fit(x, y)\n",
    "print(\"Predictors:\",predictors)\n",
    "print(\"Coefficients (alphas):    \", model.coef_)\n",
    "print(\"Model intercept:\", model.intercept_)\n",
    "print(\"Model R2:    \", model.score(x,y))"
   ]
  },
  {
   "cell_type": "code",
   "execution_count": 133,
   "metadata": {},
   "outputs": [
    {
     "data": {
      "text/plain": [
       "<matplotlib.collections.PathCollection at 0x15c80f7c0>"
      ]
     },
     "execution_count": 133,
     "metadata": {},
     "output_type": "execute_result"
    },
    {
     "data": {
      "image/png": "[encoded data removed]",
      "text/plain": [
       "<Figure size 432x288 with 1 Axes>"
      ]
     },
     "metadata": {
      "needs_background": "light"
     },
     "output_type": "display_data"
    }
   ],
   "source": [
    "rng = np.random.RandomState(1)\n",
    "x = 10 * rng.rand(50)\n",
    "y = (np.sin(x) + 0.1 * rng.randn(50) +5)*24\n",
    "\n",
    "ax=plt.axes(label='lrknn')\n",
    "ax.set_xlim(0,10)\n",
    "ax.scatter(x, y)\n"
   ]
  },
  {
   "cell_type": "code",
   "execution_count": 134,
   "metadata": {},
   "outputs": [
    {
     "data": {
      "text/plain": [
       "[<matplotlib.lines.Line2D at 0x15cbedb80>]"
      ]
     },
     "execution_count": 134,
     "metadata": {},
     "output_type": "execute_result"
    },
    {
     "data": {
      "image/png": "[encoded data removed]",
      "text/plain": [
       "<Figure size 432x288 with 1 Axes>"
      ]
     },
     "metadata": {
      "needs_background": "light"
     },
     "output_type": "display_data"
    }
   ],
   "source": [
    "model.fit(x[:,np.newaxis],y[:,np.newaxis])\n",
    "xfit = np.linspace(0, max(x), 1000)\n",
    "# newaxis gives xfit the shape of a matrix\n",
    "yfit = model.predict(xfit[:,np.newaxis])\n",
    "\n",
    "ax=plt.axes(label='lrknn')\n",
    "ax.set_xlim(0,10)\n",
    "ax.scatter(x, y)\n",
    "ax.plot(xfit, yfit,color='red')\n"
   ]
  },
  {
   "cell_type": "code",
   "execution_count": 135,
   "metadata": {},
   "outputs": [
    {
     "data": {
      "text/plain": [
       "[<matplotlib.lines.Line2D at 0x15ccf5a60>]"
      ]
     },
     "execution_count": 135,
     "metadata": {},
     "output_type": "execute_result"
    },
    {
     "data": {
      "image/png": "[encoded data removed]",
      "text/plain": [
       "<Figure size 432x288 with 1 Axes>"
      ]
     },
     "metadata": {
      "needs_background": "light"
     },
     "output_type": "display_data"
    }
   ],
   "source": [
    "from sklearn.neighbors import KNeighborsRegressor\n",
    "neigh = KNeighborsRegressor(n_neighbors=2)\n",
    "neigh.fit(x[:,np.newaxis], y)\n",
    "yfitn=neigh.predict(xfit[:,np.newaxis])\n",
    "\n",
    "ax=plt.axes(label='lrknn')\n",
    "ax.set_xlim(0,10)\n",
    "ax.scatter(x, y)\n",
    "ax.plot(xfit, yfitn,color='green')\n"
   ]
  }
 ],
 "metadata": {
  "kernelspec": {
   "display_name": "Python 3",
   "language": "python",
   "name": "python3"
  },
  "language_info": {
   "codemirror_mode": {
    "name": "ipython",
    "version": 3
   },
   "file_extension": ".py",
   "mimetype": "text/x-python",
   "name": "python",
   "nbconvert_exporter": "python",
   "pygments_lexer": "ipython3",
   "version": "3.8.6"
  }
 },
 "nbformat": 4,
 "nbformat_minor": 4
}
